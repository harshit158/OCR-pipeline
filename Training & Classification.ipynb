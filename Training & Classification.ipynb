{
 "cells": [
  {
   "cell_type": "markdown",
   "metadata": {},
   "source": [
    "# OCR Demystified !!\n",
    "## [ Part-3 ]  Training and Classification"
   ]
  },
  {
   "cell_type": "code",
   "execution_count": 43,
   "metadata": {
    "collapsed": false
   },
   "outputs": [],
   "source": [
    "# Importing libraries\n",
    "import os\n",
    "from __future__ import print_function\n",
    "from keras.models import Sequential\n",
    "from keras.layers import Dense\n",
    "import numpy as np\n",
    "from sklearn import svm\n",
    "from sklearn import ensemble\n",
    "from sklearn.model_selection import train_test_split\n",
    "from sklearn.metrics import accuracy_score\n",
    "from sklearn.model_selection import cross_val_score\n",
    "from sklearn.model_selection import StratifiedKFold\n",
    "from sklearn.metrics import confusion_matrix\n",
    "import matplotlib.pyplot as plt\n",
    "from IPython.display import clear_output"
   ]
  },
  {
   "cell_type": "code",
   "execution_count": 54,
   "metadata": {
    "collapsed": false
   },
   "outputs": [
    {
     "name": "stdout",
     "output_type": "stream",
     "text": [
      "Distribution of samples for each class: \n",
      "\n"
     ]
    },
    {
     "data": {
      "image/png": "[encoded data removed]",
      "text/plain": [
       "<matplotlib.figure.Figure at 0x7fd76a94a690>"
      ]
     },
     "metadata": {},
     "output_type": "display_data"
    }
   ],
   "source": [
    "#Number of samples in each class\n",
    "\n",
    "classCount = {}\n",
    "images = os.listdir(os.path.join(os.getcwd(), 'training_data'))\n",
    "for image in images:\n",
    "    className = int(image.split(\"_\")[2].split(\".\")[0])\n",
    "    classCount.setdefault(className, 0)\n",
    "    classCount[className]+=1\n",
    "\n",
    "#Displaying sample distribution\n",
    "print (\"Distribution of samples for each class: \\n\")\n",
    "plt.bar(range(len(classCount)), classCount.values(), align='center')\n",
    "plt.xticks(range(len(classCount)), classCount.keys())\n",
    "\n",
    "plt.show()\n"
   ]
  },
  {
   "cell_type": "code",
   "execution_count": 55,
   "metadata": {
    "collapsed": false,
    "scrolled": true
   },
   "outputs": [
    {
     "name": "stdout",
     "output_type": "stream",
     "text": [
      "Training data:  (135, 57)\n",
      "Testing data:  (6, 57)\n"
     ]
    }
   ],
   "source": [
    "X = np.load(\"X_train.npy\")\n",
    "Y = np.load(\"Y_train.npy\")\n",
    "test = np.load(\"X_test.npy\")\n",
    "print (\"Training data: \",X.shape)\n",
    "print (\"Testing data: \",test.shape)\n",
    "\n",
    "X_train, X_test, y_train, y_test = train_test_split(X, Y, test_size=0.2, random_state=0)"
   ]
  },
  {
   "cell_type": "markdown",
   "metadata": {},
   "source": [
    "## Models"
   ]
  },
  {
   "cell_type": "code",
   "execution_count": 56,
   "metadata": {
    "collapsed": false
   },
   "outputs": [
    {
     "data": {
      "text/plain": [
       "array([ 0.50943396,  0.55813953,  0.66666667])"
      ]
     },
     "execution_count": 56,
     "metadata": {},
     "output_type": "execute_result"
    }
   ],
   "source": [
    "#Model1 - SVM\n",
    "\n",
    "clf = svm.SVC(kernel='poly', degree=2)\n",
    "clf.fit(X_train, y_train)\n",
    "clf.score(X_test, y_test)\n",
    "cross_val_score(clf, X, Y, cv=3)\n"
   ]
  },
  {
   "cell_type": "code",
   "execution_count": 57,
   "metadata": {
    "collapsed": false
   },
   "outputs": [
    {
     "data": {
      "text/plain": [
       "array([ 0.62264151,  0.62790698,  0.74358974])"
      ]
     },
     "execution_count": 57,
     "metadata": {},
     "output_type": "execute_result"
    }
   ],
   "source": [
    "#Model2 - Random Forest\n",
    "\n",
    "clf = ensemble.RandomForestClassifier(n_estimators=10)\n",
    "clf.fit(X_train, y_train)\n",
    "cross_val_score(clf, X, Y, cv=3)\n"
   ]
  },
  {
   "cell_type": "code",
   "execution_count": 50,
   "metadata": {
    "collapsed": false
   },
   "outputs": [],
   "source": [
    "#Model3 - KERAS neural network\n",
    "\n",
    "# fix random seed for reproducibility\n",
    "seed = 7\n",
    "np.random.seed(seed)\n",
    "\n",
    "# create model\n",
    "model = Sequential()\n",
    "model.add(Dense(12, input_dim=X.shape[1], init='uniform', activation='relu'))\n",
    "model.add(Dense(8, init='uniform', activation='relu'))\n",
    "model.add(Dense(1, init='uniform', activation='sigmoid'))\n",
    "\n",
    "# Compile model\n",
    "model.compile(loss='binary_crossentropy', optimizer='adam', metrics=['accuracy'])\n",
    "\n",
    "# Fit the model\n",
    "model.fit(X, Y, nb_epoch=150, batch_size=10)\n",
    "\n",
    "\n",
    "# evaluate the model\n",
    "scores = model.evaluate(X, Y)\n",
    "print(\"%s: %.2f%%\" % (model.metrics_names[1], scores[1]*100))\n"
   ]
  },
  {
   "cell_type": "markdown",
   "metadata": {},
   "source": [
    "## Testing"
   ]
  },
  {
   "cell_type": "code",
   "execution_count": 58,
   "metadata": {
    "collapsed": false
   },
   "outputs": [],
   "source": [
    "characterMap = {'a':1, 'b':2, 'c':3, 'd':4, 'e':5, 'f':6, 'g':7, 'h':8, 'i':9, 'j':10, 'k':11, 'l':12, 'm':13,\n",
    "                   'n':14, 'o':15, 'p':16, 'q':17, 'r':18, 's':19, 't':20, 'u':21, 'v':22,'w':23,'x':24,'y':25,\n",
    "                   'z':26 }\n",
    "\n",
    "inverseMap ={v: k for k, v in characterMap.items()}\n"
   ]
  },
  {
   "cell_type": "code",
   "execution_count": 59,
   "metadata": {
    "collapsed": false
   },
   "outputs": [
    {
     "name": "stdout",
     "output_type": "stream",
     "text": [
      "The predicted word is :\n",
      "t\u001b[H\u001b[2Jn\u001b[H\u001b[2Jr\u001b[H\u001b[2Ji\u001b[H\u001b[2Jn\u001b[H\u001b[2Jg\u001b[H\u001b[2J"
     ]
    }
   ],
   "source": [
    "clf = svm.SVC(kernel='poly', degree=2)\n",
    "clf.fit(X, Y)\n",
    "predictions = clf.predict(test)\n",
    "\n",
    "print (\"The predicted word is :\")\n",
    "for number in predictions:\n",
    "    print (inverseMap[int(number)], end=\"\")\n",
    "    %clear\n"
   ]
  }
 ],
 "metadata": {
  "kernelspec": {
   "display_name": "Python 2",
   "language": "python",
   "name": "python2"
  },
  "language_info": {
   "codemirror_mode": {
    "name": "ipython",
    "version": 2
   },
   "file_extension": ".py",
   "mimetype": "text/x-python",
   "name": "python",
   "nbconvert_exporter": "python",
   "pygments_lexer": "ipython2",
   "version": "2.7.13"
  }
 },
 "nbformat": 4,
 "nbformat_minor": 2
}
