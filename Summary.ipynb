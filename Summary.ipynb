{
 "cells": [
  {
   "cell_type": "markdown",
   "metadata": {},
   "source": [
    "# Building OCR system\n",
    "\n",
    "## Summary"
   ]
  },
  {
   "cell_type": "markdown",
   "metadata": {},
   "source": [
    "### Library used\n",
    "\n",
    "PIL (Python Image Library)"
   ]
  },
  {
   "cell_type": "markdown",
   "metadata": {},
   "source": [
    "### Bottlenecks and scope of improvements\n",
    "1. Pre-processing of raw image<br>\n",
    "   Only one pre-processing step is applied (Conversion into black and grey mode)<br>\n",
    "   More pre-processing could have been done<br><br> \n",
    "\n",
    "2. Character extraction algorithm<br>\n",
    "   Current algorithm assumes absence of slantness and Overlapping<br>\n",
    "   Only 22 words could be successfully extracted<br><br> \n",
    "   \n",
    "3. Amount of training data<br>\n",
    "   More training data could be used through data augmentation<br>\n",
    "   Since training data <<< Number of features, accuracy is not good<br><br> \n",
    "   \n",
    "4. Feature extraction<br>\n",
    "   100 features could be extracted <br><br>\n",
    "   \n",
    "5. Model training<br>\n",
    "   Neural networks could be used for better output\n",
    "   \n",
    "   \n",
    "   "
   ]
  }
 ],
 "metadata": {
  "kernelspec": {
   "display_name": "Python 2",
   "language": "python",
   "name": "python2"
  },
  "language_info": {
   "codemirror_mode": {
    "name": "ipython",
    "version": 2
   },
   "file_extension": ".py",
   "mimetype": "text/x-python",
   "name": "python",
   "nbconvert_exporter": "python",
   "pygments_lexer": "ipython2",
   "version": "2.7.13"
  }
 },
 "nbformat": 4,
 "nbformat_minor": 2
}
