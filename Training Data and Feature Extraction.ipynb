{
 "cells": [
  {
   "cell_type": "markdown",
   "metadata": {},
   "source": [
    "# OCR Demystified !!\n",
    "## [ Part-2 ]  Training Data and Feature extraction\n",
    "\n",
    "### Feature Extraction\n",
    "\n",
    "These features are extracted for each character\n",
    "\n",
    "1. Width\n",
    "2. Height\n",
    "3. Aspect Ratio\n",
    "4. Number of pixels\n",
    "5. Ratio of white to black pixels\n",
    "6. Horizontal symmetry\n",
    "7. Vertical symmetry\n",
    "8. x histogram\n",
    "9. y histogram\n"
   ]
  },
  {
   "cell_type": "code",
   "execution_count": 3,
   "metadata": {
    "collapsed": true
   },
   "outputs": [],
   "source": [
    "#Importing general libraries\n",
    "\n",
    "import matplotlib.pyplot as plt\n",
    "from matplotlib.pyplot import imshow\n",
    "import numpy as np\n",
    "import os\n",
    "\n",
    "from PIL import Image, ImageChops, ImageDraw, ImageFilter, ImageOps\n"
   ]
  },
  {
   "cell_type": "code",
   "execution_count": 31,
   "metadata": {
    "collapsed": true
   },
   "outputs": [],
   "source": [
    "# functions for reading and showing images\n",
    "\n",
    "def readImage(index):\n",
    "    image=Image.open(os.getcwd()+'/Images/'+str(index)+'.jpg')\n",
    "    return image\n",
    "\n",
    "def showImage(image):\n",
    "    plt.imshow(image)\n",
    "    plt.show()"
   ]
  },
  {
   "cell_type": "code",
   "execution_count": 32,
   "metadata": {
    "collapsed": false
   },
   "outputs": [
    {
     "name": "stdout",
     "output_type": "stream",
     "text": [
      "max_width 19\n",
      "max_height 33\n"
     ]
    }
   ],
   "source": [
    "# Getting the max width and height of training images generated in previous step\n",
    "%store -r max_values\n",
    "max_width, max_height = max_values\n",
    "print 'max_width',max_width\n",
    "print 'max_height',max_height"
   ]
  },
  {
   "cell_type": "code",
   "execution_count": 36,
   "metadata": {
    "collapsed": false
   },
   "outputs": [
    {
     "name": "stdout",
     "output_type": "stream",
     "text": [
      "Stats: TESTING\n",
      "\n",
      "Size of testing data:  6 \n",
      "\n",
      "Number of features:  57 \n",
      "\n",
      "A data point in final training data: \n",
      "[  12   24  288 2350 2266   33   33   33   30   30   29   10    9    9   12\n",
      "   28   28   28   29   31   33   33   33   33   19   19   19   19   15   15\n",
      "   15   14    7    7    8   15   15   15   15   15   15   15   16   15   16\n",
      "   15   16   15   15   15   11   13   19   19   19   19   19] \n",
      "\n",
      "Saved X_test\n"
     ]
    }
   ],
   "source": [
    "# Creating final training images and calling extractFeatures()\n",
    "\n",
    "X_train = []\n",
    "Y_train = []\n",
    "X_test = []\n",
    "\n",
    "def generateData(task=\"train\"):\n",
    "    \n",
    "    if(task==\"train\"):\n",
    "        global X_train, Y_train\n",
    "        X_train = []\n",
    "        Y_train = []\n",
    "        inDir = os.getcwd()+'/characters/'\n",
    "        outDir = './training_data/' \n",
    "        \n",
    "    else:\n",
    "        global X_test\n",
    "        X_test = []\n",
    "        inDir = os.getcwd()+'/test_characters/'\n",
    "        outDir = './test_data/'\n",
    "        \n",
    "    images = os.listdir(inDir)\n",
    "    for imageName in images:\n",
    "\n",
    "        #Creating a blank image of size max_width * max_height\n",
    "        background = Image.new(\"1\", (max_width, max_height), \"white\")\n",
    "\n",
    "        image = Image.open(inDir+imageName)\n",
    "        width, height = image.size\n",
    "\n",
    "        background.paste(image, ((max_width/2)-(width/2), (max_height/2)-(height/2)))\n",
    "        background.save(outDir + imageName)\n",
    "\n",
    "        extractFeature(background, image, imageName, task)\n",
    "\n",
    "    if(task == \"train\"):\n",
    "        print 'Stats: TRAINING\\n'\n",
    "        print 'Size of training data: ', len(X_train),'\\n'\n",
    "        print 'Number of features: ', len(X_train[0]),'\\n'\n",
    "\n",
    "        print 'A data point in final training data: \\n', X_train[0], '\\n'\n",
    "        print 'A label in training data: \\n',Y_train[0], '\\n'\n",
    "\n",
    "        shape = list(X_train[0].shape)\n",
    "        shape[:0] = [len(X_train)]\n",
    "        X_train = np.concatenate( X_train).reshape(shape)\n",
    "\n",
    "        #Saving training data on disk\n",
    "        np.save(\"X_train\", X_train)\n",
    "        print \"Saved X_train\"\n",
    "        np.save(\"Y_train\", Y_train)\n",
    "        print \"Saved Y_train\"\n",
    "        \n",
    "    else:\n",
    "        print 'Stats: TESTING\\n'\n",
    "        print 'Size of testing data: ', len(X_test),'\\n'\n",
    "        print 'Number of features: ', len(X_test[0]),'\\n'\n",
    "        print 'A data point in final training data: \\n', X_test[0], '\\n'\n",
    "        \n",
    "        shape = list(X_test[0].shape)\n",
    "        shape[:0] = [len(X_test)]\n",
    "        X_test = np.concatenate( X_test).reshape(shape)\n",
    "        \n",
    "        np.save(\"X_test\", X_test)\n",
    "        print \"Saved X_test\"\n",
    "    \n",
    "    \n",
    "generateData(\"test\")        \n",
    "\n"
   ]
  },
  {
   "cell_type": "code",
   "execution_count": 19,
   "metadata": {
    "collapsed": false
   },
   "outputs": [],
   "source": [
    "def extractFeature(background, image, imageName, task):\n",
    "    #Extracts features from characters\n",
    "    \n",
    "    xtrain = []\n",
    "    \n",
    "    #feature 1: width\n",
    "    xtrain.append(image.size[0])\n",
    "    \n",
    "    #feature 2: height\n",
    "    xtrain.append(image.size[1])\n",
    "    \n",
    "    #feature : aspect ratio\n",
    "#     xtrain.append(float(image.size[1])/image.size[0])\n",
    "    \n",
    "    #feature : number of pixels\n",
    "    xtrain.append(image.size[1]*image.size[0])\n",
    "    \n",
    "    \n",
    "    #feature 3: ratio of white to black pixels\n",
    "    whitePixels = white_pixels(background)\n",
    "    totalPixels = background.size[0]*background.size[1]\n",
    "    blackPixels = totalPixels - whitePixels\n",
    "#     xtrain.append(whitePixels/blackPixels)\n",
    "    \n",
    "    #feature 3: vertical_symmetry\n",
    "    value = vertical_symmetry(background)\n",
    "    xtrain.append(value)\n",
    "    \n",
    "    #feature 3: horizontal_symmetry\n",
    "    value = horizontal_symmetry(background)\n",
    "    xtrain.append(value)\n",
    "    \n",
    "    #featuer 3: x_histogram\n",
    "    x_hist_values = x_histogram(background)\n",
    "    xtrain = np.concatenate((xtrain, x_hist_values), axis = 0)\n",
    "    \n",
    "    #featuer 4: y_histogram\n",
    "    y_hist_values = y_histogram(background)\n",
    "    xtrain = np.concatenate((xtrain, y_hist_values), axis = 0)\n",
    "    \n",
    "    \n",
    "    #Writing to final data\n",
    "    if(task==\"train\"):\n",
    "        X_train.append(xtrain)\n",
    "        Y_train.append(imageName.split(\"_\")[2].split(\".\")[0])\n",
    "    else:\n",
    "        X_test.append(xtrain)\n",
    "    \n",
    "    "
   ]
  },
  {
   "cell_type": "code",
   "execution_count": 8,
   "metadata": {
    "collapsed": false
   },
   "outputs": [],
   "source": [
    "def x_histogram(background):\n",
    "    hist_values = []\n",
    "    width,height = background.size\n",
    "    pix = np.asarray(background).transpose()\n",
    "    for x in range(width):\n",
    "        hist_values.append( np.add.reduce(pix[x]))\n",
    "    return hist_values\n",
    "\n",
    "def y_histogram(background):\n",
    "    hist_values = []\n",
    "    width,height = background.size\n",
    "    pix = np.asarray(background)\n",
    "    for x in range(height):\n",
    "        hist_values.append( np.add.reduce(pix[x]))\n",
    "    return hist_values\n",
    "\n",
    "def white_pixels(background):\n",
    "    pixeldata = np.asarray(background)\n",
    "    return sum(np.add.reduce(pixeldata))\n",
    "\n",
    "def vertical_symmetry(background):\n",
    "    width,height = background.size\n",
    "    first_half = np.array(background.crop((0, 0, width/2, height)).getdata())\n",
    "    second_half = np.array(ImageOps.mirror(background.crop((width/2, 0, width, height)).getdata()))\n",
    "    second_half = second_half[:len(first_half)]\n",
    "    return int(np.linalg.norm(first_half-second_half))\n",
    "\n",
    "def horizontal_symmetry(background):\n",
    "    width,height = background.size\n",
    "    first_half = np.array(background.crop((0, 0, width, height/2)).getdata())\n",
    "    second_half = np.array(ImageOps.mirror(background.crop((0, height/2, width, height)).getdata()))\n",
    "    second_half = second_half[:len(first_half)]\n",
    "    return  int(np.linalg.norm(first_half-second_half))\n",
    "    \n"
   ]
  }
 ],
 "metadata": {
  "kernelspec": {
   "display_name": "Python 2",
   "language": "python",
   "name": "python2"
  },
  "language_info": {
   "codemirror_mode": {
    "name": "ipython",
    "version": 2
   },
   "file_extension": ".py",
   "mimetype": "text/x-python",
   "name": "python",
   "nbconvert_exporter": "python",
   "pygments_lexer": "ipython2",
   "version": "2.7.13"
  }
 },
 "nbformat": 4,
 "nbformat_minor": 2
}
